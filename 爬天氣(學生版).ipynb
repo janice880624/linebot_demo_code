{
  "nbformat": 4,
  "nbformat_minor": 0,
  "metadata": {
    "colab": {
      "provenance": []
    },
    "kernelspec": {
      "name": "python3",
      "display_name": "Python 3"
    },
    "language_info": {
      "name": "python"
    }
  },
  "cells": [
    {
      "cell_type": "markdown",
      "source": [
        "## Requests 函式庫\n",
        "requests 函式庫 ( 模組 ) 是相當流行的 Python 外部函式庫，具備了 GET、POST...等各種 request 用法，透過 requests 能夠輕鬆抓取網頁的資料\n",
        "\n",
        "**如果是使用 Colab 或 Anaconda，預設已經安裝了 requests 函式庫，不用額外安裝**"
      ],
      "metadata": {
        "id": "8QHpg8F6W-4N"
      }
    },
    {
      "cell_type": "code",
      "execution_count": null,
      "metadata": {
        "id": "aCbkFaoIWgg7"
      },
      "outputs": [],
      "source": [
        "# 終端機安裝方式\n",
        "!pip install requests"
      ]
    },
    {
      "cell_type": "markdown",
      "source": [
        "## 天氣 API\n",
        "\n",
        "- [氣象局開放資料](https://opendata.cwb.gov.tw/userLogin)\n",
        "- [API 擷取](https://opendata.cwb.gov.tw/dist/opendata-swagger.html#/)\n",
        "\n",
        "`url = 'https://opendata.cwb.gov.tw/api/v1/rest/datastore/F-C0032-001?Authorization=' + token + '&format=JSON&locationName=' + str(city)`"
      ],
      "metadata": {
        "id": "wfxvRjVBdvEd"
      }
    },
    {
      "cell_type": "code",
      "source": [
        "## 程式可以打在這"
      ],
      "metadata": {
        "id": "BaLydMKWXNoh"
      },
      "execution_count": null,
      "outputs": []
    },
    {
      "cell_type": "code",
      "source": [
        "import requests, json"
      ],
      "metadata": {
        "id": "74ztW25pfO1l"
      },
      "execution_count": null,
      "outputs": []
    },
    {
      "cell_type": "code",
      "source": [
        "token = 'your_token'\n",
        "url = 'https://opendata.cwb.gov.tw/api/v1/rest/datastore/F-C0032-001?Authorization=' + token + '&format=JSON&locationName=' + str('臺北市')\n",
        "data = requests.get(url)\n",
        "print(data.text)"
      ],
      "metadata": {
        "colab": {
          "base_uri": "https://localhost:8080/"
        },
        "id": "zlaPmwMalKCe",
        "outputId": "4728725d-9c14-47b1-ebf9-80415050330e"
      },
      "execution_count": null,
      "outputs": [
        {
          "output_type": "stream",
          "name": "stdout",
          "text": [
            "{\"success\":\"true\",\"result\":{\"resource_id\":\"F-C0032-001\",\"fields\":[{\"id\":\"datasetDescription\",\"type\":\"String\"},{\"id\":\"locationName\",\"type\":\"String\"},{\"id\":\"parameterName\",\"type\":\"String\"},{\"id\":\"parameterValue\",\"type\":\"String\"},{\"id\":\"parameterUnit\",\"type\":\"String\"},{\"id\":\"startTime\",\"type\":\"Timestamp\"},{\"id\":\"endTime\",\"type\":\"Timestamp\"}]},\"records\":{\"datasetDescription\":\"三十六小時天氣預報\",\"location\":[{\"locationName\":\"臺北市\",\"weatherElement\":[{\"elementName\":\"Wx\",\"time\":[{\"startTime\":\"2023-03-12 06:00:00\",\"endTime\":\"2023-03-12 18:00:00\",\"parameter\":{\"parameterName\":\"多雲短暫雨\",\"parameterValue\":\"8\"}},{\"startTime\":\"2023-03-12 18:00:00\",\"endTime\":\"2023-03-13 06:00:00\",\"parameter\":{\"parameterName\":\"陰短暫雨\",\"parameterValue\":\"11\"}},{\"startTime\":\"2023-03-13 06:00:00\",\"endTime\":\"2023-03-13 18:00:00\",\"parameter\":{\"parameterName\":\"陰天\",\"parameterValue\":\"7\"}}]},{\"elementName\":\"PoP\",\"time\":[{\"startTime\":\"2023-03-12 06:00:00\",\"endTime\":\"2023-03-12 18:00:00\",\"parameter\":{\"parameterName\":\"40\",\"parameterUnit\":\"百分比\"}},{\"startTime\":\"2023-03-12 18:00:00\",\"endTime\":\"2023-03-13 06:00:00\",\"parameter\":{\"parameterName\":\"50\",\"parameterUnit\":\"百分比\"}},{\"startTime\":\"2023-03-13 06:00:00\",\"endTime\":\"2023-03-13 18:00:00\",\"parameter\":{\"parameterName\":\"0\",\"parameterUnit\":\"百分比\"}}]},{\"elementName\":\"MinT\",\"time\":[{\"startTime\":\"2023-03-12 06:00:00\",\"endTime\":\"2023-03-12 18:00:00\",\"parameter\":{\"parameterName\":\"18\",\"parameterUnit\":\"C\"}},{\"startTime\":\"2023-03-12 18:00:00\",\"endTime\":\"2023-03-13 06:00:00\",\"parameter\":{\"parameterName\":\"15\",\"parameterUnit\":\"C\"}},{\"startTime\":\"2023-03-13 06:00:00\",\"endTime\":\"2023-03-13 18:00:00\",\"parameter\":{\"parameterName\":\"15\",\"parameterUnit\":\"C\"}}]},{\"elementName\":\"CI\",\"time\":[{\"startTime\":\"2023-03-12 06:00:00\",\"endTime\":\"2023-03-12 18:00:00\",\"parameter\":{\"parameterName\":\"稍有寒意至舒適\"}},{\"startTime\":\"2023-03-12 18:00:00\",\"endTime\":\"2023-03-13 06:00:00\",\"parameter\":{\"parameterName\":\"寒冷至舒適\"}},{\"startTime\":\"2023-03-13 06:00:00\",\"endTime\":\"2023-03-13 18:00:00\",\"parameter\":{\"parameterName\":\"寒冷至稍有寒意\"}}]},{\"elementName\":\"MaxT\",\"time\":[{\"startTime\":\"2023-03-12 06:00:00\",\"endTime\":\"2023-03-12 18:00:00\",\"parameter\":{\"parameterName\":\"26\",\"parameterUnit\":\"C\"}},{\"startTime\":\"2023-03-12 18:00:00\",\"endTime\":\"2023-03-13 06:00:00\",\"parameter\":{\"parameterName\":\"21\",\"parameterUnit\":\"C\"}},{\"startTime\":\"2023-03-13 06:00:00\",\"endTime\":\"2023-03-13 18:00:00\",\"parameter\":{\"parameterName\":\"17\",\"parameterUnit\":\"C\"}}]}]}]}}\n"
          ]
        }
      ]
    },
    {
      "cell_type": "markdown",
      "source": [
        "## 爬取需要的資料\n",
        "\n",
        "`Data = (json.loads(Data.text,encoding='utf-8'))['records']['location'][0]['weatherElement']`"
      ],
      "metadata": {
        "id": "dqpLX6I-fMO6"
      }
    },
    {
      "cell_type": "code",
      "source": [
        "Data = (json.loads(data.text))['records']['location'][0]['weatherElement']\n",
        "res = [[], [], []]\n",
        "for i in range(3):\n",
        "  for j in Data:\n",
        "    res[i].append(j['time'][i])\n",
        "print(res)"
      ],
      "metadata": {
        "colab": {
          "base_uri": "https://localhost:8080/"
        },
        "id": "Wy8AqZz_lMS4",
        "outputId": "4bfa04b4-47fa-4f1a-d543-7457e4a9ecac"
      },
      "execution_count": null,
      "outputs": [
        {
          "output_type": "stream",
          "name": "stdout",
          "text": [
            "[[{'startTime': '2023-03-12 06:00:00', 'endTime': '2023-03-12 18:00:00', 'parameter': {'parameterName': '多雲短暫雨', 'parameterValue': '8'}}, {'startTime': '2023-03-12 06:00:00', 'endTime': '2023-03-12 18:00:00', 'parameter': {'parameterName': '40', 'parameterUnit': '百分比'}}, {'startTime': '2023-03-12 06:00:00', 'endTime': '2023-03-12 18:00:00', 'parameter': {'parameterName': '18', 'parameterUnit': 'C'}}, {'startTime': '2023-03-12 06:00:00', 'endTime': '2023-03-12 18:00:00', 'parameter': {'parameterName': '稍有寒意至舒適'}}, {'startTime': '2023-03-12 06:00:00', 'endTime': '2023-03-12 18:00:00', 'parameter': {'parameterName': '26', 'parameterUnit': 'C'}}], [{'startTime': '2023-03-12 18:00:00', 'endTime': '2023-03-13 06:00:00', 'parameter': {'parameterName': '陰短暫雨', 'parameterValue': '11'}}, {'startTime': '2023-03-12 18:00:00', 'endTime': '2023-03-13 06:00:00', 'parameter': {'parameterName': '50', 'parameterUnit': '百分比'}}, {'startTime': '2023-03-12 18:00:00', 'endTime': '2023-03-13 06:00:00', 'parameter': {'parameterName': '15', 'parameterUnit': 'C'}}, {'startTime': '2023-03-12 18:00:00', 'endTime': '2023-03-13 06:00:00', 'parameter': {'parameterName': '寒冷至舒適'}}, {'startTime': '2023-03-12 18:00:00', 'endTime': '2023-03-13 06:00:00', 'parameter': {'parameterName': '21', 'parameterUnit': 'C'}}], [{'startTime': '2023-03-13 06:00:00', 'endTime': '2023-03-13 18:00:00', 'parameter': {'parameterName': '陰天', 'parameterValue': '7'}}, {'startTime': '2023-03-13 06:00:00', 'endTime': '2023-03-13 18:00:00', 'parameter': {'parameterName': '0', 'parameterUnit': '百分比'}}, {'startTime': '2023-03-13 06:00:00', 'endTime': '2023-03-13 18:00:00', 'parameter': {'parameterName': '15', 'parameterUnit': 'C'}}, {'startTime': '2023-03-13 06:00:00', 'endTime': '2023-03-13 18:00:00', 'parameter': {'parameterName': '寒冷至稍有寒意'}}, {'startTime': '2023-03-13 06:00:00', 'endTime': '2023-03-13 18:00:00', 'parameter': {'parameterName': '17', 'parameterUnit': 'C'}}]]\n"
          ]
        }
      ]
    },
    {
      "cell_type": "code",
      "source": [
        "for data in res:\n",
        "  print(data)"
      ],
      "metadata": {
        "colab": {
          "base_uri": "https://localhost:8080/"
        },
        "id": "5FSBLO4Wmlko",
        "outputId": "e16a8b57-c6fd-4814-ccbc-e1ff44b493db"
      },
      "execution_count": null,
      "outputs": [
        {
          "output_type": "stream",
          "name": "stdout",
          "text": [
            "[{'startTime': '2023-03-12 06:00:00', 'endTime': '2023-03-12 18:00:00', 'parameter': {'parameterName': '多雲短暫雨', 'parameterValue': '8'}}, {'startTime': '2023-03-12 06:00:00', 'endTime': '2023-03-12 18:00:00', 'parameter': {'parameterName': '40', 'parameterUnit': '百分比'}}, {'startTime': '2023-03-12 06:00:00', 'endTime': '2023-03-12 18:00:00', 'parameter': {'parameterName': '18', 'parameterUnit': 'C'}}, {'startTime': '2023-03-12 06:00:00', 'endTime': '2023-03-12 18:00:00', 'parameter': {'parameterName': '稍有寒意至舒適'}}, {'startTime': '2023-03-12 06:00:00', 'endTime': '2023-03-12 18:00:00', 'parameter': {'parameterName': '26', 'parameterUnit': 'C'}}]\n",
            "[{'startTime': '2023-03-12 18:00:00', 'endTime': '2023-03-13 06:00:00', 'parameter': {'parameterName': '陰短暫雨', 'parameterValue': '11'}}, {'startTime': '2023-03-12 18:00:00', 'endTime': '2023-03-13 06:00:00', 'parameter': {'parameterName': '50', 'parameterUnit': '百分比'}}, {'startTime': '2023-03-12 18:00:00', 'endTime': '2023-03-13 06:00:00', 'parameter': {'parameterName': '15', 'parameterUnit': 'C'}}, {'startTime': '2023-03-12 18:00:00', 'endTime': '2023-03-13 06:00:00', 'parameter': {'parameterName': '寒冷至舒適'}}, {'startTime': '2023-03-12 18:00:00', 'endTime': '2023-03-13 06:00:00', 'parameter': {'parameterName': '21', 'parameterUnit': 'C'}}]\n",
            "[{'startTime': '2023-03-13 06:00:00', 'endTime': '2023-03-13 18:00:00', 'parameter': {'parameterName': '陰天', 'parameterValue': '7'}}, {'startTime': '2023-03-13 06:00:00', 'endTime': '2023-03-13 18:00:00', 'parameter': {'parameterName': '0', 'parameterUnit': '百分比'}}, {'startTime': '2023-03-13 06:00:00', 'endTime': '2023-03-13 18:00:00', 'parameter': {'parameterName': '15', 'parameterUnit': 'C'}}, {'startTime': '2023-03-13 06:00:00', 'endTime': '2023-03-13 18:00:00', 'parameter': {'parameterName': '寒冷至稍有寒意'}}, {'startTime': '2023-03-13 06:00:00', 'endTime': '2023-03-13 18:00:00', 'parameter': {'parameterName': '17', 'parameterUnit': 'C'}}]\n"
          ]
        }
      ]
    },
    {
      "cell_type": "code",
      "source": [
        "# 抓取時間 1\n",
        "i = 0\n",
        "\n",
        "for data in res:\n",
        "  if i < len(res):\n",
        "    time = '{} ~ {}'.format(res[i][0]['startTime'], res[i][0]['endTime'])\n",
        "\n",
        "    i += 1\n",
        "    print(time)"
      ],
      "metadata": {
        "colab": {
          "base_uri": "https://localhost:8080/"
        },
        "id": "ibzhXVKDn-3d",
        "outputId": "542df6ab-1bf7-4bc0-b8eb-9ae7c7486e2b"
      },
      "execution_count": null,
      "outputs": [
        {
          "output_type": "stream",
          "name": "stdout",
          "text": [
            "2023-03-12 06:00:00 ~ 2023-03-12 18:00:00\n",
            "2023-03-12 18:00:00 ~ 2023-03-13 06:00:00\n",
            "2023-03-13 06:00:00 ~ 2023-03-13 18:00:00\n"
          ]
        }
      ]
    },
    {
      "cell_type": "code",
      "source": [
        "# 抓取時間 2\n",
        "i = 0\n",
        "\n",
        "for data in res:\n",
        "  if i < len(res):\n",
        "    time = '{} ~ {}'.format(res[i][0]['startTime'][5:-3], res[i][0]['endTime'][5:-3])\n",
        "\n",
        "    i += 1\n",
        "    print(time)"
      ],
      "metadata": {
        "colab": {
          "base_uri": "https://localhost:8080/"
        },
        "id": "tdHRmNKAlRQt",
        "outputId": "ece8bd7f-6b1c-44f5-b021-f60f8bea39ce"
      },
      "execution_count": null,
      "outputs": [
        {
          "output_type": "stream",
          "name": "stdout",
          "text": [
            "03-12 06:00 ~ 03-12 18:00\n",
            "03-12 18:00 ~ 03-13 06:00\n",
            "03-13 06:00 ~ 03-13 18:00\n"
          ]
        }
      ]
    },
    {
      "cell_type": "code",
      "source": [
        "# 抓取天氣狀況\n",
        "i = 0\n",
        "\n",
        "for data in res:\n",
        "  if i < len(res):\n",
        "    WX = res[i][0]['parameter']['parameterName']\n",
        "\n",
        "    i += 1\n",
        "    print(WX)"
      ],
      "metadata": {
        "colab": {
          "base_uri": "https://localhost:8080/"
        },
        "id": "Qn6HDPZ0m9mF",
        "outputId": "b38f89bb-f4c1-4d53-89a7-094110232c2b"
      },
      "execution_count": null,
      "outputs": [
        {
          "output_type": "stream",
          "name": "stdout",
          "text": [
            "多雲短暫雨\n",
            "陰短暫雨\n",
            "陰天\n"
          ]
        }
      ]
    },
    {
      "cell_type": "code",
      "source": [
        "# 抓取降雨機率\n",
        "i = 0\n",
        "\n",
        "for data in res:\n",
        "  if i < len(res):\n",
        "    PoP = res[i][1]['parameter']['parameterName']\n",
        "\n",
        "    i += 1\n",
        "    print(PoP)"
      ],
      "metadata": {
        "colab": {
          "base_uri": "https://localhost:8080/"
        },
        "id": "6myadTDAorRj",
        "outputId": "70b00837-07da-41d6-9364-8fdc9efcebba"
      },
      "execution_count": null,
      "outputs": [
        {
          "output_type": "stream",
          "name": "stdout",
          "text": [
            "40\n",
            "50\n",
            "0\n"
          ]
        }
      ]
    },
    {
      "cell_type": "code",
      "source": [
        "# 抓取最低溫度\n",
        "i = 0\n",
        "\n",
        "for data in res:\n",
        "  if i < len(res):\n",
        "    MinT = res[i][2]['parameter']['parameterName']\n",
        "\n",
        "    i += 1\n",
        "    print(MinT)"
      ],
      "metadata": {
        "colab": {
          "base_uri": "https://localhost:8080/"
        },
        "id": "6YdSOhSjpuBZ",
        "outputId": "f619e9cc-9ec9-45c1-ea71-6892926e9d1d"
      },
      "execution_count": null,
      "outputs": [
        {
          "output_type": "stream",
          "name": "stdout",
          "text": [
            "18\n",
            "15\n",
            "15\n"
          ]
        }
      ]
    },
    {
      "cell_type": "code",
      "source": [
        "# 抓取氣候感覺\n",
        "i = 0\n",
        "\n",
        "for data in res:\n",
        "  if i < len(res):\n",
        "    CI = res[i][3]['parameter']['parameterName']\n",
        "\n",
        "    i += 1\n",
        "    print(CI)"
      ],
      "metadata": {
        "colab": {
          "base_uri": "https://localhost:8080/"
        },
        "id": "EVv71eEXp98o",
        "outputId": "1539ec81-dd08-4e04-e0a4-c3355d5ebb06"
      },
      "execution_count": null,
      "outputs": [
        {
          "output_type": "stream",
          "name": "stdout",
          "text": [
            "稍有寒意至舒適\n",
            "寒冷至舒適\n",
            "寒冷至稍有寒意\n"
          ]
        }
      ]
    },
    {
      "cell_type": "code",
      "source": [
        "# 抓取最高溫度\n",
        "i = 0\n",
        "\n",
        "for data in res:\n",
        "  if i < len(res):\n",
        "    MaxT = res[i][4]['parameter']['parameterName']\n",
        "\n",
        "    i += 1\n",
        "    print(MaxT)"
      ],
      "metadata": {
        "colab": {
          "base_uri": "https://localhost:8080/"
        },
        "id": "prklhTZeqHiC",
        "outputId": "abae1cfc-cef2-430b-ef71-535673dbdbc0"
      },
      "execution_count": null,
      "outputs": [
        {
          "output_type": "stream",
          "name": "stdout",
          "text": [
            "26\n",
            "21\n",
            "17\n"
          ]
        }
      ]
    },
    {
      "cell_type": "code",
      "source": [],
      "metadata": {
        "id": "mGrqIJRXqOm1"
      },
      "execution_count": null,
      "outputs": []
    }
  ]
}